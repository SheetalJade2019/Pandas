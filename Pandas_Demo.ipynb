{
 "cells": [
  {
   "cell_type": "code",
   "execution_count": 9,
   "metadata": {},
   "outputs": [
    {
     "name": "stdout",
     "output_type": "stream",
     "text": [
      "   id      name   YOP      native\n",
      "0   1    pratik  2012  aurangabad\n",
      "1   2  prachiti  2020         pkd\n",
      "2   3   samidha  2015  aurangabad\n",
      "3   4   sheetal  2019    parbhani\n",
      "4   5     pooja  2016      chopda\n",
      "5   6   nishant  2018      basmat\n"
     ]
    }
   ],
   "source": [
    "# Create CSV file from data\n",
    "import pandas as pd\n",
    "sample_dict={\n",
    "                'id':[1,2,3,4,5,6],\n",
    "                'name':['pratik','prachiti','samidha','sheetal','pooja','nishant'],\n",
    "                'YOP':[2012,2020,2015,2019,2016,2018],\n",
    "                'native':['aurangabad','pkd','aurangabad','parbhani','chopda','basmat'],\n",
    "            }\n",
    "friend=pd.DataFrame(sample_dict)\n",
    "print(friend)\n"
   ]
  },
  {
   "cell_type": "code",
   "execution_count": 22,
   "metadata": {},
   "outputs": [],
   "source": [
    "# save dataset in csv file \n",
    "import pandas as pd\n",
    "sample_dict={\n",
    "                'id':[1,2,3,4,5,6],\n",
    "                'name':['pratik','prachiti','samidha','sheetal','pooja','nishant'],\n",
    "                'YOP':[2012,2020,2015,2019,2016,2018],\n",
    "                'native':['aurangabad','pkd','aurangabad','parbhani','chopda','basmat'],\n",
    "            }\n",
    "friend=pd.DataFrame(sample_dict)\n",
    "\n",
    "df=friend.to_csv('friend.csv')\n",
    "friend.to_excel('friend.xlsx')\n"
   ]
  },
  {
   "cell_type": "code",
   "execution_count": 19,
   "metadata": {},
   "outputs": [
    {
     "name": "stdout",
     "output_type": "stream",
     "text": [
      "\n",
      "Head\n",
      "\n",
      "   Unnamed: 0  id      name   YOP      native\n",
      "0           0   1    pratik  2012  aurangabad\n",
      "1           1   2  prachiti  2020         pkd\n",
      "2           2   3   samidha  2015  aurangabad\n",
      "\n",
      "Tail\n",
      "\n",
      "   Unnamed: 0  id     name   YOP    native\n",
      "3           3   4  sheetal  2019  parbhani\n",
      "4           4   5    pooja  2016    chopda\n",
      "5           5   6  nishant  2018    basmat\n"
     ]
    }
   ],
   "source": [
    "# Slicing dataframe\n",
    "import pandas as pd\n",
    "df=pd.read_csv('E:\\\\Python\\\\dataset\\\\friend.csv')\n",
    "\n",
    "print()\n",
    "print('Head')\n",
    "print()\n",
    "print(df.head(3))\n",
    "\n",
    "print()\n",
    "print('Tail')\n",
    "print()\n",
    "print(df.tail(3))"
   ]
  },
  {
   "cell_type": "code",
   "execution_count": 32,
   "metadata": {},
   "outputs": [
    {
     "name": "stdout",
     "output_type": "stream",
     "text": [
      "   Unnamed: 0  id     name   YOP      native            hobby\n",
      "0           0   1   pratik  2012  aurangabad  playing cricket\n",
      "1           2   3  samidha  2015  aurangabad        sketching\n",
      "2           3   4  sheetal  2019    parbhani         painting\n",
      "3           5   6  nishant  2018      basmat       networking\n"
     ]
    }
   ],
   "source": [
    "# Merging dataset : combines/ selects only common rows (no of rows must be same, column can vary, all columns considered)\n",
    "import pandas as pd\n",
    "\n",
    "df1=pd.read_csv('E:\\\\Python\\\\dataset\\\\friend.csv')\n",
    "df2=pd.read_csv('E:\\\\Python\\\\dataset\\\\fb_live_sellers.csv')\n",
    "\n",
    "#print(df2.head(2))\n",
    "#merge=pd.merge(df1,df2)\n",
    "#print(merge.head(2))\n",
    "\n",
    "df2=pd.DataFrame({\n",
    "                #'id':[1,2,3,4,5,6],\n",
    "                'name':['pratik','samidha','sheetal','Ujwal','nishant','nishant'],\n",
    "                #'YOP':[2012,2020,2015,2019,2016,2018],\n",
    "                'native':['aurangabad','aurangabad','parbhani','jalna','basmat','parbhani'],\n",
    "                'hobby':['playing cricket','sketching','painting','reading','networking','dancing']\n",
    "                })\n",
    "\n",
    "merge=pd.merge(df1,df2)\n",
    "print(merge.head(6))\n"
   ]
  },
  {
   "cell_type": "code",
   "execution_count": 36,
   "metadata": {},
   "outputs": [
    {
     "name": "stdout",
     "output_type": "stream",
     "text": [
      "             hobby  id      name   YOP      native\n",
      "0  playing cricket   1    pratik  2012  aurangabad\n",
      "1        sketching   2  prachiti  2020         pkd\n",
      "2         painting   3   samidha  2015  aurangabad\n",
      "3          reading   4   sheetal  2019    parbhani\n",
      "4       networking   5     pooja  2016      chopda\n",
      "5          dancing   6   nishant  2018      basmat\n"
     ]
    }
   ],
   "source": [
    "'''\n",
    "joining dataset : \n",
    "            done with index values\n",
    "            NaN : Not a Number value added \n",
    "            Columns added to original df\n",
    "            simply joins dataset \n",
    "            relation/ common columns are not required\n",
    "'''\n",
    "import pandas as pd\n",
    "\n",
    "friend1 = pd.DataFrame({\n",
    "                'id':[1,2,3,4,5,6],\n",
    "                'name':['pratik','prachiti','samidha','sheetal','pooja','nishant'],\n",
    "                'YOP':[2012,2020,2015,2019,2016,2018],\n",
    "                'native':['aurangabad','pkd','aurangabad','parbhani','chopda','basmat'],\n",
    "                #'hobby':['playing cricket','sketching','painting','reading','networking','dancing']\n",
    "                    })\n",
    "friend2 = pd.DataFrame({\n",
    "                #'id':[1,2,3,4,5,6],\n",
    "                #'name':['pratik','samidha','sheetal','Ujwal','nishant','nishant'],\n",
    "                #'YOP':[2012,2020,2015,2019,2016,2018],\n",
    "                #'native':['aurangabad','aurangabad','parbhani','jalna','basmat','parbhani'],\n",
    "                'hobby':['playing cricket','sketching','painting','reading','networking','dancing']\n",
    "                })\n",
    "\n",
    "joined=friend2.join(friend1)\n",
    "print(joined)"
   ]
  },
  {
   "cell_type": "code",
   "execution_count": 45,
   "metadata": {},
   "outputs": [
    {
     "name": "stdout",
     "output_type": "stream",
     "text": [
      "   id      name   YOP      native            hobby\n",
      "0   1    pratik  2012  aurangabad  playing cricket\n",
      "1   2  prachiti  2020         pkd        sketching\n",
      "2   3   samidha  2015  aurangabad         painting\n",
      "3   4   sheetal  2019    parbhani          reading\n",
      "4   5     pooja  2016      chopda       networking\n",
      "5   6   nishant  2018      basmat          dancing\n",
      "\n",
      "\n",
      "   id      name   YOP      native            hobby\n",
      "0   1    pratik  2012  aurangabad  playing cricket\n",
      "1   2  prachiti  2020         pkd        sketching\n",
      "2   3   samidha  2015  aurangabad         painting\n",
      "3   4   sheetal  2019    parbhani          reading\n",
      "4   5     pooja  2016      chopda       networking\n",
      "5   6   nishant  2018      basmat          dancing\n",
      "\n",
      "\n",
      "      id      name      native            hobby\n",
      "YOP                                            \n",
      "2012   1    pratik  aurangabad  playing cricket\n",
      "2020   2  prachiti         pkd        sketching\n",
      "2015   3   samidha  aurangabad         painting\n",
      "2019   4   sheetal    parbhani          reading\n",
      "2016   5     pooja      chopda       networking\n",
      "2018   6   nishant      basmat          dancing\n"
     ]
    }
   ],
   "source": [
    "# change index of dataset\n",
    "# moves index column at location 0\n",
    "import pandas as pd\n",
    "\n",
    "friend = pd.DataFrame({\n",
    "                'id':[1,2,3,4,5,6],\n",
    "                'name':['pratik','prachiti','samidha','sheetal','pooja','nishant'],\n",
    "                'YOP':[2012,2020,2015,2019,2016,2018],\n",
    "                'native':['aurangabad','pkd','aurangabad','parbhani','chopda','basmat'],\n",
    "                'hobby':['playing cricket','sketching','painting','reading','networking','dancing']\n",
    "                    })\n",
    "print(friend)\n",
    "print()\n",
    "print()\n",
    "friend.set_index('YOP')\n",
    "print(friend)\n",
    "print()\n",
    "print()\n",
    "friend.set_index('YOP',inplace=True)\n",
    "print(friend)"
   ]
  },
  {
   "cell_type": "code",
   "execution_count": 47,
   "metadata": {},
   "outputs": [
    {
     "name": "stdout",
     "output_type": "stream",
     "text": [
      "   id      name   YOP      native            hobby\n",
      "0   1    pratik  2012  aurangabad  playing cricket\n",
      "1   2  prachiti  2020         pkd        sketching\n",
      "2   3   samidha  2015  aurangabad         painting\n",
      "3   4   sheetal  2019    parbhani          reading\n",
      "4   5     pooja  2016      chopda       networking\n",
      "5   6   nishant  2018      basmat          dancing\n",
      "\n",
      "\n",
      "   id      name   YOP      native         interest\n",
      "0   1    pratik  2012  aurangabad  playing cricket\n",
      "1   2  prachiti  2020         pkd        sketching\n",
      "2   3   samidha  2015  aurangabad         painting\n",
      "3   4   sheetal  2019    parbhani          reading\n",
      "4   5     pooja  2016      chopda       networking\n",
      "5   6   nishant  2018      basmat          dancing\n"
     ]
    }
   ],
   "source": [
    "# change column headers\n",
    "# hobby to interest\n",
    "import pandas as pd\n",
    "\n",
    "friend = pd.DataFrame({\n",
    "                'id':[1,2,3,4,5,6],\n",
    "                'name':['pratik','prachiti','samidha','sheetal','pooja','nishant'],\n",
    "                'YOP':[2012,2020,2015,2019,2016,2018],\n",
    "                'native':['aurangabad','pkd','aurangabad','parbhani','chopda','basmat'],\n",
    "                'hobby':['playing cricket','sketching','painting','reading','networking','dancing']\n",
    "                    })\n",
    "print(friend)\n",
    "print()\n",
    "print()\n",
    "friend=friend.rename(columns={'hobby':'interest'})\n",
    "print(friend)\n"
   ]
  },
  {
   "cell_type": "code",
   "execution_count": 73,
   "metadata": {},
   "outputs": [
    {
     "name": "stdout",
     "output_type": "stream",
     "text": [
      "   id      name   YOP      native            hobby\n",
      "1   1    pratik  2012  aurangabad  playing cricket\n",
      "2   2   samidha  2020  aurangabad        sketching\n",
      "3   3   sheetal  2015    parbhani         painting\n",
      "4   4     Ujwal  2019       jalna          reading\n",
      "5   5   nishant  2016      basmat       networking\n",
      "6   6   nishant  2018    parbhani          dancing\n",
      "1   1    pratik  2012  aurangabad  playing cricket\n",
      "2   2  prachiti  2020         pkd        sketching\n",
      "3   3   samidha  2015  aurangabad         painting\n",
      "4   4   sheetal  2019    parbhani          reading\n",
      "5   5     pooja  2016      chopda       networking\n",
      "6   6   nishant  2018      basmat          dancing\n"
     ]
    }
   ],
   "source": [
    "# dataset concatenation : added one after another\n",
    "import pandas as pd\n",
    "\n",
    "friend1 = pd.DataFrame({\n",
    "                'id':[1,2,3,4,5,6],\n",
    "                'name':['pratik','prachiti','samidha','sheetal','pooja','nishant'],\n",
    "                'YOP':[2012,2020,2015,2019,2016,2018],\n",
    "                'native':['aurangabad','pkd','aurangabad','parbhani','chopda','basmat'],\n",
    "                'hobby':['playing cricket','sketching','painting','reading','networking','dancing']\n",
    "                    },\n",
    "                index=[1,2,3,4,5,6]\n",
    "                    )\n",
    "friend2 = pd.DataFrame(\n",
    "                {\n",
    "                'id':[1,2,3,4,5,6],\n",
    "                'name':['pratik','samidha','sheetal','Ujwal','nishant','nishant'],\n",
    "                'YOP':[2012,2020,2015,2019,2016,2018],\n",
    "                'native':['aurangabad','aurangabad','parbhani','jalna','basmat','parbhani'],\n",
    "                'hobby':['playing cricket','sketching','painting','reading','networking','dancing'],\n",
    "                },\n",
    "                index=[1,2,3,4,5,6]\n",
    "                )\n",
    "\n",
    "concat=pd.concat([friend2,friend1])\n",
    "print(concat)"
   ]
  },
  {
   "cell_type": "code",
   "execution_count": 55,
   "metadata": {},
   "outputs": [
    {
     "name": "stdout",
     "output_type": "stream",
     "text": [
      "   id      name   YOP      native            hobby\n",
      "0   1    pratik  2012  aurangabad  playing cricket\n",
      "1   2  prachiti  2020         pkd        sketching\n",
      "2   3   samidha  2015  aurangabad         painting\n",
      "3   4   sheetal  2019    parbhani          reading\n",
      "4   5     pooja  2016      chopda       networking\n",
      "5   6   nishant  2018      basmat          dancing\n",
      "\n",
      "\n",
      "None\n",
      "\n",
      "\n",
      "None\n",
      "\n",
      "\n"
     ]
    }
   ],
   "source": [
    "# data munging\n",
    "import pandas as pd\n",
    "\n",
    "friend = pd.DataFrame({\n",
    "                'id':[1,2,3,4,5,6],\n",
    "                'name':['pratik','prachiti','samidha','sheetal','pooja','nishant'],\n",
    "                'YOP':[2012,2020,2015,2019,2016,2018],\n",
    "                'native':['aurangabad','pkd','aurangabad','parbhani','chopda','basmat'],\n",
    "                'hobby':['playing cricket','sketching','painting','reading','networking','dancing']\n",
    "                    })\n",
    "print(friend)\n",
    "html_friend=friend.to_html('html_friend.html')\n",
    "excel_friend=friend.to_excel('excel_friend.xlsx')\n",
    "print()\n",
    "print()\n",
    "print(html_friend)\n",
    "print()\n",
    "print()\n",
    "print(excel_friend)\n",
    "print()\n",
    "print()\n"
   ]
  },
  {
   "cell_type": "code",
   "execution_count": 80,
   "metadata": {},
   "outputs": [
    {
     "name": "stdout",
     "output_type": "stream",
     "text": [
      "   id      name   YOP      native            hobby\n",
      "0   1    pratik  2012  aurangabad  playing cricket\n",
      "1   2  prachiti  2020         pkd        sketching\n",
      "2   3   samidha  2015  aurangabad         painting\n",
      "3   4   sheetal  2019    parbhani          reading\n",
      "4   5     pooja  2015      chopda       networking\n",
      "5   6   nishant  2018      basmat          dancing\n",
      "\n",
      "\n",
      "\n",
      "MEAN\n",
      "2016.5\n",
      "\n",
      "\n",
      "MEDIAN\n",
      "2016.5\n",
      "\n",
      "\n",
      "MODE\n",
      "0    2015\n",
      "dtype: int64\n",
      "\n",
      "\n"
     ]
    }
   ],
   "source": [
    "#python for statistics\n",
    "import pandas as pd\n",
    "\n",
    "friend = pd.DataFrame({\n",
    "                'id':[1,2,3,4,5,6],\n",
    "                'name':['pratik','prachiti','samidha','sheetal','pooja','nishant'],\n",
    "                'YOP':[2012,2020,2015,2019,2015,2018],\n",
    "                'native':['aurangabad','pkd','aurangabad','parbhani','chopda','basmat'],\n",
    "                'hobby':['playing cricket','sketching','painting','reading','networking','dancing']\n",
    "                    })\n",
    "print(friend)\n",
    "print()\n",
    "print()\n",
    "print()\n",
    "print('MEAN')\n",
    "print(friend['YOP'].mean())\n",
    "print()\n",
    "print()\n",
    "print('MEDIAN')\n",
    "print(friend['YOP'].median())\n",
    "print()\n",
    "print()\n",
    "print('MODE')\n",
    "print(friend['YOP'].mode())\n",
    "print()\n",
    "print()\n",
    "#print('VARIENCE')\n",
    "#print(friend['YOP'].variance())\n"
   ]
  },
  {
   "cell_type": "code",
   "execution_count": null,
   "metadata": {},
   "outputs": [],
   "source": [
    "# python for Hadoop"
   ]
  }
 ],
 "metadata": {
  "kernelspec": {
   "display_name": "Python 3",
   "language": "python",
   "name": "python3"
  },
  "language_info": {
   "codemirror_mode": {
    "name": "ipython",
    "version": 3
   },
   "file_extension": ".py",
   "mimetype": "text/x-python",
   "name": "python",
   "nbconvert_exporter": "python",
   "pygments_lexer": "ipython3",
   "version": "3.7.2"
  }
 },
 "nbformat": 4,
 "nbformat_minor": 2
}
